{
 "cells": [
  {
   "cell_type": "code",
   "execution_count": 1,
   "metadata": {},
   "outputs": [
    {
     "name": "stdout",
     "output_type": "stream",
     "text": [
      "WARNING:tensorflow:From <ipython-input-1-afb4f3127734>:6: read_data_sets (from tensorflow.examples.tutorials.mnist.input_data) is deprecated and will be removed in a future version.\n",
      "Instructions for updating:\n",
      "Please use alternatives such as: tensorflow_datasets.load('mnist')\n",
      "WARNING:tensorflow:From C:\\Users\\nargel\\anaconda3\\envs\\tf\\lib\\site-packages\\tensorflow_core\\examples\\tutorials\\mnist\\input_data.py:297: _maybe_download (from tensorflow.examples.tutorials.mnist.input_data) is deprecated and will be removed in a future version.\n",
      "Instructions for updating:\n",
      "Please write your own downloading logic.\n",
      "WARNING:tensorflow:From C:\\Users\\nargel\\anaconda3\\envs\\tf\\lib\\site-packages\\tensorflow_core\\examples\\tutorials\\mnist\\input_data.py:299: _extract_images (from tensorflow.examples.tutorials.mnist.input_data) is deprecated and will be removed in a future version.\n",
      "Instructions for updating:\n",
      "Please use tf.data to implement this functionality.\n",
      "Extracting MNIST_data\\train-images-idx3-ubyte.gz\n",
      "WARNING:tensorflow:From C:\\Users\\nargel\\anaconda3\\envs\\tf\\lib\\site-packages\\tensorflow_core\\examples\\tutorials\\mnist\\input_data.py:304: _extract_labels (from tensorflow.examples.tutorials.mnist.input_data) is deprecated and will be removed in a future version.\n",
      "Instructions for updating:\n",
      "Please use tf.data to implement this functionality.\n",
      "Extracting MNIST_data\\train-labels-idx1-ubyte.gz\n",
      "WARNING:tensorflow:From C:\\Users\\nargel\\anaconda3\\envs\\tf\\lib\\site-packages\\tensorflow_core\\examples\\tutorials\\mnist\\input_data.py:112: _dense_to_one_hot (from tensorflow.examples.tutorials.mnist.input_data) is deprecated and will be removed in a future version.\n",
      "Instructions for updating:\n",
      "Please use tf.one_hot on tensors.\n",
      "Extracting MNIST_data\\t10k-images-idx3-ubyte.gz\n",
      "Extracting MNIST_data\\t10k-labels-idx1-ubyte.gz\n",
      "WARNING:tensorflow:From C:\\Users\\nargel\\anaconda3\\envs\\tf\\lib\\site-packages\\tensorflow_core\\examples\\tutorials\\mnist\\input_data.py:328: _DataSet.__init__ (from tensorflow.examples.tutorials.mnist.input_data) is deprecated and will be removed in a future version.\n",
      "Instructions for updating:\n",
      "Please use alternatives such as official/mnist/_DataSet.py from tensorflow/models.\n"
     ]
    }
   ],
   "source": [
    "import tensorflow.compat.v1 as tf\n",
    "import matplotlib.pyplot as plt\n",
    "import numpy as np\n",
    "\n",
    "from tensorflow.examples.tutorials.mnist import input_data\n",
    "mnist = input_data.read_data_sets(\"MNIST_data\", one_hot=True)\n",
    "\n"
   ]
  },
  {
   "cell_type": "code",
   "execution_count": 2,
   "metadata": {},
   "outputs": [],
   "source": [
    "def w_variable(shape):\n",
    "    init = tf.random_normal(shape,stddev=0.01)\n",
    "    return tf.Variable(init)\n",
    "\n",
    "def conv2d(x,w):\n",
    "    return tf.nn.conv2d(x,w,strides= [1,1,1,1], padding='SAME')\n",
    "\n",
    "def maxpool2(x):\n",
    "    return tf.nn.max_pool(x, ksize=[1,2,2,1], strides=[1,2,2,1], padding='SAME')\n",
    "\n"
   ]
  },
  {
   "cell_type": "code",
   "execution_count": 3,
   "metadata": {},
   "outputs": [],
   "source": [
    "tf.compat.v1.disable_eager_execution()\n",
    "\n"
   ]
  },
  {
   "cell_type": "code",
   "execution_count": 7,
   "metadata": {},
   "outputs": [],
   "source": [
    "x = tf.compat.v1.placeholder(tf.float32, [None, 784])\n",
    "y_ = tf.compat.v1.placeholder(tf.float32, [None, 10])\n",
    "\n",
    "x_image= tf.reshape(x,[-1,28,28,1])\n",
    "\n",
    "#convolucion1\n",
    "w_conv1=w_variable([5,5,1,10])\n",
    "b_conv1=w_variable([10])\n",
    "h_conv1= tf.nn.relu(conv2d(x_image, w_conv1)+b_conv1)\n",
    "\n",
    "#maxpooling\n",
    "h_pool1= maxpool2(h_conv1)\n",
    "h_pool1_plat=tf.reshape(h_pool1,[-1,14*14*10])\n",
    "\n",
    "#capa oculta1\n",
    "w_1= w_variable([14*14*10, 400])\n",
    "b_1=w_variable([400])\n",
    "h_1=tf.nn.relu(tf.matmul(h_pool1_plat,w_1)+b_1)\n",
    "\n",
    "#capa salida\n",
    "w_2= w_variable([400, 10])\n",
    "b_2=w_variable([10])\n",
    "y= tf.nn.softmax(tf.matmul(h_1,w_2)+b_2)\n",
    "\n",
    "\n",
    "#reducir error\n",
    "mse= tf.reduce_mean(tf.square(y_ - y))\n",
    "train_step= tf.train.AdamOptimizer(0.01).minimize(mse)\n",
    "\n"
   ]
  },
  {
   "cell_type": "code",
   "execution_count": 8,
   "metadata": {},
   "outputs": [],
   "source": [
    "#iniciar session\n",
    "sess= tf.Session()\n",
    "sess.run(tf.initialize_all_variables())\n",
    "\n"
   ]
  },
  {
   "cell_type": "code",
   "execution_count": 9,
   "metadata": {},
   "outputs": [
    {
     "name": "stdout",
     "output_type": "stream",
     "text": [
      "iteracion: 0  train mse: 0.08985941\n",
      "iteracion: 50  train mse: 0.0061656516\n",
      "iteracion: 100  train mse: 0.0027601735\n",
      "iteracion: 150  train mse: 0.0015849067\n",
      "iteracion: 200  train mse: 0.0012269677\n",
      "iteracion: 250  train mse: 0.0023317798\n",
      "iteracion: 300  train mse: 0.0008201292\n",
      "entrenado\n"
     ]
    }
   ],
   "source": [
    " for i in range(350):\n",
    "        batchX, batchY = mnist.train.next_batch(1000)\n",
    "        sess.run(train_step, feed_dict= {x: batchX, y_: batchY })\n",
    "        if(i%50==0):\n",
    "            print(\"iteracion: \"+str(i)+ \"  train mse: \"+str(sess.run(mse, feed_dict= {x: batchX, y_: batchY })))\n",
    "            \n",
    "print(\"entrenado\")            "
   ]
  },
  {
   "cell_type": "code",
   "execution_count": 16,
   "metadata": {},
   "outputs": [
    {
     "data": {
      "image/png": "[encoded data removed]",
      "text/plain": [
       "<Figure size 432x288 with 1 Axes>"
      ]
     },
     "metadata": {
      "needs_background": "light"
     },
     "output_type": "display_data"
    },
    {
     "name": "stdout",
     "output_type": "stream",
     "text": [
      "Test error:0.0135\n"
     ]
    }
   ],
   "source": [
    "\n",
    "pred= np.argmax(sess.run(y, feed_dict={x:mnist.test.images, y_: mnist.test.labels}), axis=1)\n",
    "\n",
    "truelabels=np.argmax(mnist.test.labels, axis=1)\n",
    "\n",
    "errors=0\n",
    "\n",
    "for i in range(pred.shape[0]):\n",
    "    if(pred[i]!= truelabels[i]):\n",
    "        if(i<100):\n",
    "            plt.imshow(mnist.test.images[i].reshape(28,28),cmap='gray')\n",
    "            plt.show()\n",
    "        errors=errors+1\n",
    "print(\"Test error:\"+ str(errors/pred.shape[0]))"
   ]
  },
  {
   "cell_type": "code",
   "execution_count": null,
   "metadata": {},
   "outputs": [],
   "source": []
  }
 ],
 "metadata": {
  "kernelspec": {
   "display_name": "Python 3",
   "language": "python",
   "name": "python3"
  },
  "language_info": {
   "codemirror_mode": {
    "name": "ipython",
    "version": 3
   },
   "file_extension": ".py",
   "mimetype": "text/x-python",
   "name": "python",
   "nbconvert_exporter": "python",
   "pygments_lexer": "ipython3",
   "version": "3.7.7"
  }
 },
 "nbformat": 4,
 "nbformat_minor": 4
}
