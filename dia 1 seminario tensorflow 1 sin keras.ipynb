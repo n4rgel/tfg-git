{
 "cells": [
  {
   "cell_type": "code",
   "execution_count": 35,
   "metadata": {},
   "outputs": [
    {
     "name": "stdout",
     "output_type": "stream",
     "text": [
      "Extracting MNIST_data\\train-images-idx3-ubyte.gz\n",
      "Extracting MNIST_data\\train-labels-idx1-ubyte.gz\n",
      "Extracting MNIST_data\\t10k-images-idx3-ubyte.gz\n",
      "Extracting MNIST_data\\t10k-labels-idx1-ubyte.gz\n"
     ]
    }
   ],
   "source": [
    "import tensorflow.compat.v1 as tf\n",
    "tf.disable_v2_behavior()\n",
    "from tensorflow.examples.tutorials.mnist import input_data\n",
    "mnist = input_data.read_data_sets(\"MNIST_data\", one_hot=True)\n",
    "\n",
    "import matplotlib.pyplot as plt\n",
    "\n",
    "import numpy as np\n"
   ]
  },
  {
   "cell_type": "code",
   "execution_count": 3,
   "metadata": {},
   "outputs": [
    {
     "data": {
      "text/plain": [
       "<matplotlib.image.AxesImage at 0x1e36cbc4148>"
      ]
     },
     "execution_count": 3,
     "metadata": {},
     "output_type": "execute_result"
    },
    {
     "data": {
      "image/png": "[encoded data removed]",
      "text/plain": [
       "<Figure size 432x288 with 1 Axes>"
      ]
     },
     "metadata": {
      "needs_background": "light"
     },
     "output_type": "display_data"
    }
   ],
   "source": [
    "plt.imshow(mnist.train.images[1].reshape(28,28),cmap='gray')"
   ]
  },
  {
   "cell_type": "code",
   "execution_count": 4,
   "metadata": {},
   "outputs": [],
   "source": [
    "tf.compat.v1.disable_eager_execution()\n"
   ]
  },
  {
   "cell_type": "code",
   "execution_count": 106,
   "metadata": {},
   "outputs": [],
   "source": [
    "x = tf.compat.v1.placeholder(tf.float32, [None,784])\n",
    "y_ = tf.compat.v1.placeholder(tf.float32, [None,10])\n",
    "\n",
    "nn = [784, 200, 10] \n",
    "\n",
    "#capa1\n",
    "W0= tf.Variable(tf.random_normal([nn[0],nn[1]], stddev=0.01))\n",
    "B0= tf.Variable(tf.random_normal([nn[1]], stddev=0.01))\n",
    "\n",
    "y0=tf.nn.tanh(tf.matmul(x,W0)+B0)\n",
    "\n",
    "\n",
    "#capa2\n",
    "W1= tf.Variable(tf.random_normal([nn[1],nn[2]], stddev=0.01))\n",
    "B1= tf.Variable(tf.random_normal([nn[2]], stddev=0.01))\n",
    "\n",
    "y=tf.nn.tanh(tf.matmul(y0,W1)+B1)\n",
    "\n",
    "\n",
    "\n",
    "mse = tf.reduce_mean(tf.square(y_ - y))\n",
    "\n",
    "train_step= tf.train.AdamOptimizer(0.005).minimize(mse)\n",
    "\n",
    "init = tf.initialize_all_variables()\n",
    "sess= tf.Session()\n",
    "sess.run(init)\n",
    "\n",
    "\n"
   ]
  },
  {
   "cell_type": "code",
   "execution_count": 107,
   "metadata": {},
   "outputs": [
    {
     "name": "stdout",
     "output_type": "stream",
     "text": [
      "entrenado\n"
     ]
    }
   ],
   "source": [
    "trainloss=[]\n",
    "testloss=[]\n",
    "\n",
    "for i in range(1000):\n",
    "    batchX, batchY = mnist.train.next_batch(500)\n",
    "    sess.run(train_step, feed_dict={x: batchX , y_: batchY})\n",
    "    \n",
    "    loss1=sess.run(mse, feed_dict={x: batchX , y_: batchY})\n",
    "    loss2=sess.run(mse, feed_dict={x: mnist.test.images , y_: mnist.test.labels})\n",
    "    \n",
    "    trainloss.append(loss1)\n",
    "    testloss.append(loss2)\n",
    "print(\"entrenado\")"
   ]
  },
  {
   "cell_type": "code",
   "execution_count": 104,
   "metadata": {},
   "outputs": [
    {
     "data": {
      "text/plain": [
       "[<matplotlib.lines.Line2D at 0x1e3021e1688>]"
      ]
     },
     "execution_count": 104,
     "metadata": {},
     "output_type": "execute_result"
    },
    {
     "data": {
      "image/png": "[encoded data removed]",
      "text/plain": [
       "<Figure size 432x288 with 1 Axes>"
      ]
     },
     "metadata": {
      "needs_background": "light"
     },
     "output_type": "display_data"
    }
   ],
   "source": [
    "plt.plot(trainloss, 'r')\n",
    "plt.plot(testloss, 'g')"
   ]
  },
  {
   "cell_type": "code",
   "execution_count": 105,
   "metadata": {},
   "outputs": [
    {
     "name": "stdout",
     "output_type": "stream",
     "text": [
      "Test error:0.0929\n"
     ]
    }
   ],
   "source": [
    "pred= sess.run(y, feed_dict={x: mnist.test.images , y_: mnist.test.labels})\n",
    "\n",
    "errors = 0.\n",
    "for i in range(pred.shape[0]):\n",
    "    if(np.argmax(pred[i])!= np.argmax(mnist.test.labels[i])):\n",
    "        errors=errors+1\n",
    "print(\"Test error:\"+ str(errors/pred.shape[0]))"
   ]
  },
  {
   "cell_type": "code",
   "execution_count": null,
   "metadata": {},
   "outputs": [],
   "source": []
  }
 ],
 "metadata": {
  "kernelspec": {
   "display_name": "Python 3",
   "language": "python",
   "name": "python3"
  },
  "language_info": {
   "codemirror_mode": {
    "name": "ipython",
    "version": 3
   },
   "file_extension": ".py",
   "mimetype": "text/x-python",
   "name": "python",
   "nbconvert_exporter": "python",
   "pygments_lexer": "ipython3",
   "version": "3.7.7"
  }
 },
 "nbformat": 4,
 "nbformat_minor": 4
}
